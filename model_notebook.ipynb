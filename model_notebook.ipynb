{
 "cells": [
  {
   "cell_type": "code",
   "execution_count": 1,
   "metadata": {},
   "outputs": [],
   "source": [
    "import pytorch_lightning as pl\n",
    "import torch.utils.data as data\n",
    "import torch.nn as nn\n",
    "import pandas as pd\n",
    "import torch\n",
    "from sklearn.model_selection import train_test_split\n"
   ]
  },
  {
   "cell_type": "code",
   "execution_count": null,
   "metadata": {},
   "outputs": [],
   "source": []
  },
  {
   "cell_type": "code",
   "execution_count": 2,
   "metadata": {},
   "outputs": [],
   "source": [
    "class PandasDataset(data.Dataset):\n",
    "    features: pd.DataFrame\n",
    "    targets: pd.DataFrame\n",
    "\n",
    "    def __init__(self, features: pd.DataFrame, targets: pd.DataFrame):\n",
    "        self.features = features\n",
    "        self.targets = targets\n",
    "\n",
    "    def __getitem__(self, index):\n",
    "        return self.features.iloc[index].to_numpy(), self.targets.iloc[index].to_numpy()\n",
    "\n",
    "    def __len__(self):\n",
    "        return len(self.features)\n",
    "\n",
    "\n",
    "class ElectionDataModule(pl.LightningDataModule):\n",
    "    batch_size: int\n",
    "\n",
    "    stratification_columns: list[str]\n",
    "    feature_columns: list[str]\n",
    "    target_columns: list[str]\n",
    "\n",
    "    data_train: PandasDataset\n",
    "    data_test: PandasDataset\n",
    "    data_val: PandasDataset\n",
    "\n",
    "    def __init__(self,stratification_columns: list[str],feature_columns: list[str],target_columns: list[str],batch_size=32):\n",
    "        self.stratification_columns = stratification_columns\n",
    "        self.target_columns = target_columns\n",
    "        self.columns = feature_columns\n",
    "        self.batch_size = batch_size\n",
    "\n",
    "    def setup(self):\n",
    "        df = pd.read_csv(\"./data/volby/dataset_extended.csv\")\n",
    "        aux_indices, test_indices = train_test_split(df.index, train_size= 3/20, stratify = df[self.stratification_columns])\n",
    "        train_indices, val_indices = train_test_split(aux_indices.index, train_size= 3/17, stratify=df[self.stratification_columns].iloc[aux_indices])\n",
    "        \n",
    "        self.data_test = PandasDataset(df[self.feature_columns].iloc[train_indices],df[self.target_columns].iloc[train_indices])\n",
    "        self.data_train = PandasDataset(df[self.feature_columns].iloc[test_indices],df[self.target_columns].iloc[test_indices])\n",
    "        self.data_val = PandasDataset(df[self.feature_columns].iloc[val_indices],df[self.target_columns].iloc[val_indices])\n",
    "\n",
    "    def train_dataloader(self):\n",
    "        return data.DataLoader(self.data_train, batch_size = self.batch_size)\n",
    "\n",
    "    def test_dataloader(self):\n",
    "        return data.DataLoader(self.data_train, batch_size = self.batch_size)\n",
    "    \n",
    "    def validation_dataloader(self):\n",
    "        return data.DataLoader(self.data_val, batch_size=self.batch_size)"
   ]
  },
  {
   "cell_type": "code",
   "execution_count": 3,
   "metadata": {},
   "outputs": [],
   "source": [
    "class SimpleModule(nn.Module):\n",
    "\n",
    "    def __init__(self, num_features: int):\n",
    "        super(SimpleModule, self).__init__()\n",
    "        self.layer = nn.Linear(num_features, 1)\n",
    "\n",
    "    def forward(self, x: torch.Tensor) -> torch.Tensor:\n",
    "        return self.layer(x)"
   ]
  },
  {
   "cell_type": "code",
   "execution_count": 4,
   "metadata": {},
   "outputs": [],
   "source": [
    "x = torch.rand(1)"
   ]
  },
  {
   "cell_type": "code",
   "execution_count": null,
   "metadata": {},
   "outputs": [],
   "source": []
  }
 ],
 "metadata": {
  "interpreter": {
   "hash": "949777d72b0d2535278d3dc13498b2535136f6dfe0678499012e853ee9abcab1"
  },
  "kernelspec": {
   "display_name": "Python 3.11.0 64-bit",
   "language": "python",
   "name": "python3"
  },
  "language_info": {
   "codemirror_mode": {
    "name": "ipython",
    "version": 3
   },
   "file_extension": ".py",
   "mimetype": "text/x-python",
   "name": "python",
   "nbconvert_exporter": "python",
   "pygments_lexer": "ipython3",
   "version": "3.10.8"
  },
  "orig_nbformat": 4
 },
 "nbformat": 4,
 "nbformat_minor": 2
}
